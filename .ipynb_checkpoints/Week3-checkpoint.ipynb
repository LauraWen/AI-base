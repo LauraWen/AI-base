{
 "cells": [
  {
   "cell_type": "markdown",
   "metadata": {},
   "source": [
    "# Week3\n",
    "\n",
    "10165000101 文乐"
   ]
  },
  {
   "cell_type": "markdown",
   "metadata": {},
   "source": [
    "- **csv格式**"
   ]
  },
  {
   "cell_type": "code",
   "execution_count": 12,
   "metadata": {},
   "outputs": [
    {
     "name": "stdout",
     "output_type": "stream",
     "text": [
      "name\tage\tsex\tphone\t\n",
      "zhang_san\t12\tmale\t1234567890\t\n",
      "li_si\t24\tmale\t0987654321\t\n"
     ]
    }
   ],
   "source": [
    "f = open(\"test1.csv\")\n",
    "line = f.readline()\n",
    "while line:\n",
    "    L = line.strip().split(',')\n",
    "    for i in range(len(L)):\n",
    "        print(L[i],end = '\\t') #字段间制表分隔符\n",
    "    print()\n",
    "    line = f.readline()\n",
    "f.close()"
   ]
  },
  {
   "cell_type": "code",
   "execution_count": 10,
   "metadata": {},
   "outputs": [],
   "source": [
    "import csv\n",
    "csvfile = open('test1.csv','w',newline='')\n",
    "try:\n",
    "    writer = csv.writer(csvfile)\n",
    "    writer.writerow(('name','age','sex','phone'))\n",
    "    writer.writerow(('zhang_san','12','male','1234567890'))\n",
    "    writer.writerow(('li_si','24','male','0987654321'))\n",
    "finally:\n",
    "    csvfile.close()"
   ]
  },
  {
   "cell_type": "code",
   "execution_count": 11,
   "metadata": {},
   "outputs": [
    {
     "name": "stdout",
     "output_type": "stream",
     "text": [
      "['name', 'age', 'sex', 'phone']\n",
      "['zhang_san', '12', 'male', '1234567890']\n",
      "['li_si', '24', 'male', '0987654321']\n"
     ]
    }
   ],
   "source": [
    "import csv\n",
    "csvfile = open('test1.csv','r')\n",
    "lines = csv.reader(csvfile)\n",
    "for line in lines:\n",
    "    print(line)\n",
    "csvfile.close()"
   ]
  },
  {
   "cell_type": "code",
   "execution_count": 6,
   "metadata": {},
   "outputs": [
    {
     "name": "stdout",
     "output_type": "stream",
     "text": [
      "        name  age   sex       phone\n",
      "0  zhang_san   12  male  1234567890\n",
      "1      li_si   24  male   987654321\n"
     ]
    }
   ],
   "source": [
    "import pandas as pd\n",
    "#默认带表头，需要header = None处理无表头csv\n",
    "mydata = pd.read_csv('test1.csv',encoding='utf-8') \n",
    "print (mydata)"
   ]
  },
  {
   "cell_type": "code",
   "execution_count": null,
   "metadata": {},
   "outputs": [],
   "source": []
  },
  {
   "cell_type": "markdown",
   "metadata": {},
   "source": [
    "- **json格式**"
   ]
  },
  {
   "cell_type": "code",
   "execution_count": 18,
   "metadata": {},
   "outputs": [
    {
     "name": "stdout",
     "output_type": "stream",
     "text": [
      "[{'num': 0}, {'num': 1}, {'num': 2}]\n",
      "{'num': 1}\n",
      "1\n",
      "banana\n"
     ]
    }
   ],
   "source": [
    "import json\n",
    "jsonString = '{\"Array_Num\":[{\"num\":0},{\"num\":1},{\"num\":2}],\"Array_Frt\":[{\"frt\":\"apple\"},{\"frt\":\"banana\"},{\"frt\":\"pear\"}]}'\n",
    "jsonObj = json.loads(jsonString)\n",
    "print(jsonObj.get(\"Array_Num\"))\n",
    "print(jsonObj.get(\"Array_Num\")[1])\n",
    "print(jsonObj.get(\"Array_Num\")[1].get(\"num\"))\n",
    "print(jsonObj.get(\"Array_Frt(\"Attribute of Root element : %s\" % collection.getAttribute(\"shelf\")\")[1].get(\"frt\"))"
   ]
  },
  {
   "cell_type": "markdown",
   "metadata": {},
   "source": [
    "- **xml格式**\n",
    "\n",
    "包含标签、元素、属性 \n",
    "\n",
    "<标签 属性>元素</标签>"
   ]
  },
  {
   "cell_type": "code",
   "execution_count": null,
   "metadata": {},
   "outputs": [],
   "source": [
    "<title lang=\"en\">Everyday Italian</title> "
   ]
  },
  {
   "cell_type": "code",
   "execution_count": 10,
   "metadata": {},
   "outputs": [
    {
     "name": "stdout",
     "output_type": "stream",
     "text": [
      "Attribute of Root element : Classics\n",
      "*****BOOK*****\n",
      "Title:Everyday Italian\n",
      "Author:Giada De Laurentiis\n",
      "Year:2005\n",
      "Price:30.00\n",
      "*****BOOK*****\n",
      "Title:Harry Potter\n",
      "Author:J K. Rowling\n",
      "Year:2005\n",
      "Price:29.99\n",
      "*****BOOK*****\n",
      "Title:Learning XML\n",
      "Author:Erik T. Ray\n",
      "Year:2003\n",
      "Price:39.95\n"
     ]
    }
   ],
   "source": [
    "from xml.dom.minidom import parse\n",
    "\n",
    "DOMtree = parse('sample.xml')       # xml.dom.minidom.parse方法构造DOM树\n",
    "collection = DOMtree.documentElement  #得到树中主要元素的集合\n",
    "if collection.hasAttribute(\"shelf\"):\n",
    "    print(\"Attribute of Root element : %s\" % collection.getAttribute(\"shelf\"))\n",
    "\n",
    "books = collection.getElementsByTagName(\"book\") \n",
    "\n",
    "for book in books:\n",
    "    print('*****BOOK*****')\n",
    "    if book.hasAttribute('catagory'):\n",
    "        print(\"Category: %s\" % book.getAttribute(\"category\")) \n",
    "    title = book.getElementsByTagName('title')[0]\n",
    "    print(\"Title:%s\"%title.childNodes[0].data)\n",
    "    author = book.getElementsByTagName('author')[0]\n",
    "    print(\"Author:%s\"%author.childNodes[0].data)\n",
    "    year = book.getElementsByTagName('year')[0]\n",
    "    print(\"Year:%s\"%year.childNodes[0].data)\n",
    "    price = book.getElementsByTagName('price')[0]\n",
    "    print(\"Price:%s\"%price.childNodes[0].data)"
   ]
  },
  {
   "cell_type": "code",
   "execution_count": 8,
   "metadata": {},
   "outputs": [
    {
     "name": "stdout",
     "output_type": "stream",
     "text": [
      "Help on package xml:\n",
      "\n",
      "NAME\n",
      "    xml - Core XML support for Python.\n",
      "\n",
      "DESCRIPTION\n",
      "    This package contains four sub-packages:\n",
      "    \n",
      "    dom -- The W3C Document Object Model.  This supports DOM Level 1 +\n",
      "           Namespaces.\n",
      "    \n",
      "    parsers -- Python wrappers for XML parsers (currently only supports Expat).\n",
      "    \n",
      "    sax -- The Simple API for XML, developed by XML-Dev, led by David\n",
      "           Megginson and ported to Python by Lars Marius Garshol.  This\n",
      "           supports the SAX 2 API.\n",
      "    \n",
      "    etree -- The ElementTree XML library.  This is a subset of the full\n",
      "           ElementTree XML release.\n",
      "\n",
      "PACKAGE CONTENTS\n",
      "    dom (package)\n",
      "    etree (package)\n",
      "    parsers (package)\n",
      "    sax (package)\n",
      "\n",
      "DATA\n",
      "    __all__ = ['dom', 'parsers', 'sax', 'etree']\n",
      "\n",
      "FILE\n",
      "    c:\\users\\wenle\\scoop\\apps\\python37\\current\\lib\\xml\\__init__.py\n",
      "\n",
      "\n"
     ]
    }
   ],
   "source": [
    "import xml\n",
    "help(xml)"
   ]
  }
 ],
 "metadata": {
  "kernelspec": {
   "display_name": "Python 3",
   "language": "python",
   "name": "python3"
  },
  "language_info": {
   "codemirror_mode": {
    "name": "ipython",
    "version": 3
   },
   "file_extension": ".py",
   "mimetype": "text/x-python",
   "name": "python",
   "nbconvert_exporter": "python",
   "pygments_lexer": "ipython3",
   "version": "3.7.4"
  }
 },
 "nbformat": 4,
 "nbformat_minor": 4
}
