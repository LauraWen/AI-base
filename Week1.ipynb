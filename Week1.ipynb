{
 "cells": [
  {
   "cell_type": "markdown",
   "metadata": {},
   "source": [
    "# Week 1\n",
    "\n",
    "10165000101 文乐"
   ]
  },
  {
   "cell_type": "markdown",
   "metadata": {},
   "source": [
    "### a.教材范例"
   ]
  },
  {
   "cell_type": "code",
   "execution_count": 2,
   "metadata": {},
   "outputs": [],
   "source": [
    "######################例7-2-1\n",
    "from tkinter import *\n",
    "window = Tk() \n",
    "window.mainloop()"
   ]
  },
  {
   "cell_type": "code",
   "execution_count": 4,
   "metadata": {},
   "outputs": [],
   "source": [
    "######################例7-2-2\n",
    "from tkinter import *\n",
    "window = Tk()\n",
    "window.title(\"My Window\")\n",
    "window.geometry(\"300x250+0+0\") #大小和位置 x\n",
    "window.mainloop()"
   ]
  },
  {
   "cell_type": "code",
   "execution_count": 7,
   "metadata": {},
   "outputs": [
    {
     "name": "stdout",
     "output_type": "stream",
     "text": [
      "鼠标左击\n",
      "鼠标右击\n",
      "鼠标左击\n",
      "鼠标右击\n",
      "鼠标左击\n",
      "鼠标右击\n"
     ]
    }
   ],
   "source": [
    "######################例7-2-3\n",
    "from tkinter import *\n",
    "\n",
    "def showEvent(event):\n",
    "    if event.num == 1:\n",
    "        mouse_click_type=\"鼠标左击\"\n",
    "    if event.num == 3:\n",
    "        mouse_click_type=\"鼠标右击\"\n",
    "    print(mouse_click_type)\n",
    "\n",
    "window = Tk()\n",
    "window.title(\"鼠标事件示例\")\n",
    "\n",
    "##将窗体与事件绑定\n",
    "window.bind('<Button-1>',showEvent) \n",
    "window.bind('<Button-3>',showEvent)\n",
    "\n",
    "window.mainloop()"
   ]
  },
  {
   "cell_type": "code",
   "execution_count": 7,
   "metadata": {},
   "outputs": [],
   "source": [
    "######################例7-2-4\n",
    "from tkinter import *\n",
    "window = Tk() \n",
    "window.title(\"Label\")\n",
    "\n",
    "##Label控件\n",
    "lbl=Label(window,text=\"Welcome!\",width=50,height=10)\n",
    "lbl.grid()\n",
    "\n",
    "window.mainloop()"
   ]
  },
  {
   "cell_type": "code",
   "execution_count": 8,
   "metadata": {},
   "outputs": [
    {
     "name": "stdout",
     "output_type": "stream",
     "text": [
      "Hello!\n",
      "Hello!\n",
      "Hello!\n"
     ]
    }
   ],
   "source": [
    "######################例7-2-5\n",
    "from tkinter import *\n",
    "\n",
    "def hello():\n",
    "    print(\"Hello!\")\n",
    "\n",
    "window = Tk()\n",
    "window.title(\"Button\")\n",
    "\n",
    "##Button控件\n",
    "btn=Button(window,text='CLICK ME!',width=30,command=hello)\n",
    "btn.grid()\n",
    "\n",
    "window.mainloop()"
   ]
  },
  {
   "cell_type": "code",
   "execution_count": 10,
   "metadata": {},
   "outputs": [],
   "source": [
    "######################例7-2-6\n",
    "from tkinter import *\n",
    "\n",
    "count=0\n",
    "def show():\n",
    "    global count\n",
    "    count+=1\n",
    "    ##config动态设置标签文本\n",
    "    lbl.config(None,text=\"Button is already clicked \"+str(count)+\" times!\")\n",
    "\n",
    "window = Tk() \n",
    "window.title(\"Dynamic\")\n",
    "\n",
    "##Label+Button控件\n",
    "lbl=Label(window,text=\"Welcome!\",width=50,height=10)\n",
    "lbl.grid()\n",
    "btn=Button(window,text='CLICK ME!',width=50,command=show)\n",
    "btn.grid()\n",
    "\n",
    "window.mainloop()"
   ]
  },
  {
   "cell_type": "code",
   "execution_count": 12,
   "metadata": {},
   "outputs": [],
   "source": [
    "######################例7-2-7\n",
    "from tkinter import *\n",
    "\n",
    "def show():\n",
    "    intxt=entry1.get()\n",
    "    entry2.delete(0,END)\n",
    "    entry2.insert(0,intxt)\n",
    "\n",
    "window = Tk() \n",
    "window.title(\"Single Text\")\n",
    "\n",
    "##Entry控件\n",
    "entry1=Entry(window,width=36)\n",
    "entry1.grid()\n",
    "btn=Button(window,text='回显!',command=show)\n",
    "btn.grid()\n",
    "entry2=Entry(window,width=36)\n",
    "entry2.grid()\n",
    "\n",
    "window.mainloop()"
   ]
  },
  {
   "cell_type": "code",
   "execution_count": 2,
   "metadata": {},
   "outputs": [],
   "source": [
    "######################例7-2-8\n",
    "from tkinter import *\n",
    "\n",
    "def setColor():\n",
    "    txt.tag_add(\"myArea\",1.0,END)\n",
    "    txt.tag_config(\"myArea\",foreground='red',background=\"yellow\")\n",
    "\n",
    "window = Tk() \n",
    "window.title(\"Multiple Text\")\n",
    "\n",
    "##Text控件\n",
    "txt=Text(window)\n",
    "txt.insert(1.0,\"Please Edit Your Text\\n\")\n",
    "txt.insert(END,\"You can use Ctrl+C,Ctrl+V etc\\n\")\n",
    "txt.insert(END,\"...\")\n",
    "txt.grid()\n",
    "btn=Button(window,text='Red Letter & Yellow Backgroud',command=setColor)\n",
    "btn.grid()\n",
    "\n",
    "window.mainloop()"
   ]
  },
  {
   "cell_type": "markdown",
   "metadata": {},
   "source": [
    "### b.实验教程"
   ]
  },
  {
   "cell_type": "code",
   "execution_count": 16,
   "metadata": {},
   "outputs": [],
   "source": [
    "######################9.1.1\n",
    "from tkinter import *\n",
    "\n",
    "def show1():\n",
    "    lbl.config(None,text=\"你好！\")\n",
    "def show2():\n",
    "    lbl.config(None,text=\"祝你成功！\")\n",
    "\n",
    "window = Tk() \n",
    "lbl=Label(window,text='未点击按钮',width=20)\n",
    "lbl.grid()\n",
    "btn1=Button(window,text='显示1',command=show1)\n",
    "btn1.grid()\n",
    "btn2=Button(window,text='显示2',command=show2)\n",
    "btn2.grid()\n",
    "\n",
    "window.mainloop()"
   ]
  },
  {
   "cell_type": "code",
   "execution_count": 17,
   "metadata": {},
   "outputs": [],
   "source": [
    "######################9.1.2\n",
    "from tkinter import *\n",
    "\n",
    "count=0\n",
    "def show():\n",
    "    global count #global-全局变量\n",
    "    count+=1\n",
    "    lbl.config(None,text=\"按钮被点击了\"+str(count)+\"次！\")\n",
    "\n",
    "window = Tk() \n",
    "lbl=Label(window,text='未点击按钮',width=20)\n",
    "lbl.grid()\n",
    "btn=Button(window,text='点我试试！',command=show)\n",
    "btn.grid()\n",
    "window.mainloop()"
   ]
  },
  {
   "cell_type": "code",
   "execution_count": 19,
   "metadata": {},
   "outputs": [],
   "source": [
    "######################9.1.3\n",
    "from tkinter import *\n",
    "\n",
    "def calc():\n",
    "    num1=int(entry1.get())\n",
    "    num2=int(entry2.get())\n",
    "    num3=num1+num2\n",
    "    entry3.delete(0,END)\n",
    "    entry3.insert(0,num3)\n",
    "\n",
    "window = Tk() \n",
    "\n",
    "entry1=Entry(window,width=8)\n",
    "entry2=Entry(window,width=8)\n",
    "entry3=Entry(window,width=8)\n",
    "lbl1=Label(window,text='+',width=3)\n",
    "lbl2=Label(window,text='=',width=3)\n",
    "\n",
    "entry1.grid()\n",
    "lbl1.grid(row=0,column=1)\n",
    "entry2.grid(row=0,column=2)\n",
    "lbl2.grid(row=0,column=3)\n",
    "entry3.grid(row=0,column=4)\n",
    "\n",
    "btn=Button(window,text='计算',command=calc)\n",
    "btn.grid(column=2)\n",
    "\n",
    "window.mainloop()"
   ]
  },
  {
   "cell_type": "code",
   "execution_count": 29,
   "metadata": {},
   "outputs": [],
   "source": [
    "######################9.2.1\n",
    "from tkinter import *\n",
    "\n",
    "def show():\n",
    "    index=int(entry1.get())\n",
    "    intxt=['Monday','Tuesday','Wednesday','Thursday','Friday','Saturday','Sunday']\n",
    "    entry2.delete(0,END)\n",
    "    entry2.insert(0,intxt[index-1])\n",
    "\n",
    "window = Tk() \n",
    "window.title(\"Single Text\")\n",
    "\n",
    "##Entry控件\n",
    "entry1=Entry(window,width=36)\n",
    "entry1.grid()\n",
    "btn=Button(window,text='显示',command=show)\n",
    "btn.grid()\n",
    "entry2=Entry(window,width=36)\n",
    "entry2.grid()\n",
    "\n",
    "window.mainloop()"
   ]
  },
  {
   "cell_type": "code",
   "execution_count": 5,
   "metadata": {},
   "outputs": [],
   "source": [
    "######################9.2.2\n",
    "from tkinter import *\n",
    "\n",
    "def calc1():\n",
    "    num1=int(entry1.get())\n",
    "    num2=int(entry2.get())\n",
    "    num3=num1+num2\n",
    "    entry3.delete(0,END)\n",
    "    entry3.insert(0,num3)\n",
    "    lbl1.config(None,text='+')\n",
    "def calc2():\n",
    "    num1=int(entry1.get())\n",
    "    num2=int(entry2.get())\n",
    "    num3=num1-num2\n",
    "    entry3.delete(0,END)\n",
    "    entry3.insert(0,num3)\n",
    "    lbl1.config(None,text='-')\n",
    "def calc3():\n",
    "    num1=int(entry1.get())\n",
    "    num2=int(entry2.get())\n",
    "    num3=num1*num2\n",
    "    entry3.delete(0,END)\n",
    "    entry3.insert(0,num3)\n",
    "    lbl1.config(None,text='*')\n",
    "def calc4():\n",
    "    num1=int(entry1.get())\n",
    "    num2=int(entry2.get())\n",
    "    num3=num1/num2\n",
    "    entry3.delete(0,END)\n",
    "    entry3.insert(0,num3)\n",
    "    lbl1.config(None,text='/')\n",
    "def calc5():\n",
    "    num1=int(entry1.get())\n",
    "    num2=int(entry2.get())\n",
    "    num3=num1**num2\n",
    "    entry3.delete(0,END)\n",
    "    entry3.insert(0,num3)\n",
    "    lbl1.config(None,text='**')\n",
    "    \n",
    "window = Tk() \n",
    "\n",
    "entry1=Entry(window,width=8)\n",
    "entry2=Entry(window,width=8)\n",
    "entry3=Entry(window,width=8)\n",
    "lbl1=Label(window,text='',width=3)\n",
    "lbl2=Label(window,text='=',width=3)\n",
    "\n",
    "entry1.grid()\n",
    "lbl1.grid(row=0,column=1)\n",
    "entry2.grid(row=0,column=2)\n",
    "lbl2.grid(row=0,column=3)\n",
    "entry3.grid(row=0,column=4)\n",
    "\n",
    "btn1=Button(window,text='+',command=calc1)\n",
    "btn1.grid(row=1,column=0)\n",
    "btn2=Button(window,text='-',command=calc2)\n",
    "btn2.grid(row=1,column=1)\n",
    "btn3=Button(window,text='*',command=calc3)\n",
    "btn3.grid(row=1,column=2)\n",
    "btn4=Button(window,text='/',command=calc4)\n",
    "btn4.grid(row=1,column=3)\n",
    "btn5=Button(window,text='**',command=calc5)\n",
    "btn5.grid(row=1,column=4)\n",
    "\n",
    "window.mainloop()"
   ]
  },
  {
   "cell_type": "markdown",
   "metadata": {},
   "source": [
    "### c.菜鸟教程实验"
   ]
  },
  {
   "cell_type": "code",
   "execution_count": 44,
   "metadata": {},
   "outputs": [],
   "source": [
    "######################Button\n",
    "from tkinter import *\n",
    "from tkinter import messagebox\n",
    " \n",
    "top = tkinter.Tk()\n",
    " \n",
    "def helloCallBack():\n",
    "   messagebox.showinfo( \"Hello Python\", \"Hello Runoob\")\n",
    " \n",
    "B = tkinter.Button(top, text =\"点我\", command = helloCallBack)\n",
    " \n",
    "B.pack()\n",
    "top.mainloop()"
   ]
  },
  {
   "cell_type": "code",
   "execution_count": 5,
   "metadata": {},
   "outputs": [],
   "source": [
    "######################Canvas\n",
    "from tkinter import *\n",
    "from tkinter import messagebox\n",
    " \n",
    "root = Tk()\n",
    "cv = Canvas(root,bg = 'white')\n",
    "cv.create_rectangle(10,10,110,110)\n",
    "cv.pack()\n",
    "\n",
    "root.mainloop()"
   ]
  },
  {
   "cell_type": "code",
   "execution_count": 46,
   "metadata": {},
   "outputs": [],
   "source": [
    "######################Checkbutton\n",
    "from tkinter import *\n",
    "from tkinter import messagebox\n",
    " \n",
    "top = tkinter.Tk()\n",
    "CheckVar1 = IntVar()\n",
    "CheckVar2 = IntVar()\n",
    "C1 = Checkbutton(top, text = \"RUNOOB\", variable = CheckVar1, \\\n",
    "                 onvalue = 1, offvalue = 0, height=5, \\\n",
    "                 width = 20)\n",
    "C2 = Checkbutton(top, text = \"GOOGLE\", variable = CheckVar2, \\\n",
    "                 onvalue = 1, offvalue = 0, height=5, \\\n",
    "                 width = 20)\n",
    "C1.pack()\n",
    "C2.pack()\n",
    "top.mainloop()"
   ]
  },
  {
   "cell_type": "code",
   "execution_count": 48,
   "metadata": {},
   "outputs": [],
   "source": [
    "######################Entry\n",
    "from tkinter import *\n",
    " \n",
    "top = Tk()\n",
    "L1 = Label(top, text=\"网站名\")\n",
    "L1.pack( side = LEFT)\n",
    "E1 = Entry(top, bd =5)\n",
    "E1.pack(side = RIGHT)\n",
    " \n",
    "top.mainloop()"
   ]
  },
  {
   "cell_type": "markdown",
   "metadata": {},
   "source": [
    "### d.窗口视窗教程大集合实验"
   ]
  },
  {
   "cell_type": "code",
   "execution_count": 49,
   "metadata": {},
   "outputs": [],
   "source": [
    "######################Label\n",
    "from tkinter import * \n",
    "\n",
    "window = Tk()\n",
    "window.title('My Window')\n",
    "window.geometry('500x300')  \n",
    "l = Label(window, text='你好！this is Tkinter', bg='green', font=('Arial', 12), width=30, height=2)\n",
    "l.pack()    \n",
    "## Label内容content区域放置位置，自动调节尺寸\n",
    "## 放置lable的方法有：1）l.pack(); 2)l.place();\n",
    "\n",
    "window.mainloop()"
   ]
  },
  {
   "cell_type": "code",
   "execution_count": 52,
   "metadata": {},
   "outputs": [],
   "source": [
    "######################Button\n",
    "from tkinter import * \n",
    "\n",
    "window = Tk()\n",
    "window.title('My Window')\n",
    "window.geometry('500x300') \n",
    "var = StringVar()    \n",
    "l = Label(window, textvariable=var, bg='green', fg='white', font=('Arial', 12), width=30, height=2)\n",
    "l.pack()\n",
    " \n",
    "on_hit = False\n",
    "def hit_me():\n",
    "    global on_hit\n",
    "    if on_hit == False:\n",
    "        on_hit = True\n",
    "        var.set('you hit me')\n",
    "    else:\n",
    "        on_hit = False\n",
    "        var.set('')\n",
    "\n",
    "b = Button(window, text='hit me', font=('Arial', 12), width=10, height=1, command=hit_me)\n",
    "b.pack()\n",
    "\n",
    "window.mainloop()"
   ]
  },
  {
   "cell_type": "code",
   "execution_count": 55,
   "metadata": {},
   "outputs": [],
   "source": [
    "######################Entry\n",
    "from tkinter import * \n",
    "\n",
    "window = Tk()\n",
    "window.title('My Window')\n",
    "window.geometry('500x300') \n",
    "\n",
    "e1 = Entry(window, show='*', font=('Arial', 14))   # 显示成密文形式\n",
    "e2 = Entry(window, show=None, font=('Arial', 14))  # 显示成明文形式\n",
    "e1.pack()\n",
    "e2.pack()\n",
    "\n",
    "window.mainloop()"
   ]
  },
  {
   "cell_type": "code",
   "execution_count": 57,
   "metadata": {},
   "outputs": [],
   "source": [
    "######################Text\n",
    "from tkinter import * \n",
    "\n",
    "window = Tk()\n",
    "window.title('My Window')\n",
    "window.geometry('500x300') \n",
    "\n",
    "e = Entry(window, show = None)\n",
    "e.pack()\n",
    " \n",
    "def insert_point(): # 在鼠标焦点处插入输入内容\n",
    "    var = e.get()\n",
    "    t.insert('insert', var)\n",
    "def insert_end():   # 在文本框内容最后接着插入输入内容\n",
    "    var = e.get()\n",
    "    t.insert('end', var)\n",
    "\n",
    "b1 = Button(window, text='insert point', width=10,\n",
    "               height=2, command=insert_point)\n",
    "b1.pack()\n",
    "b2 = Button(window, text='insert end', width=10,\n",
    "               height=2, command=insert_end)\n",
    "b2.pack()\n",
    " \n",
    "t = Text(window, height=3)\n",
    "t.pack()\n",
    " \n",
    "window.mainloop()"
   ]
  }
 ],
 "metadata": {
  "kernelspec": {
   "display_name": "Python 3",
   "language": "python",
   "name": "python3"
  },
  "language_info": {
   "codemirror_mode": {
    "name": "ipython",
    "version": 3
   },
   "file_extension": ".py",
   "mimetype": "text/x-python",
   "name": "python",
   "nbconvert_exporter": "python",
   "pygments_lexer": "ipython3",
   "version": "3.7.4"
  }
 },
 "nbformat": 4,
 "nbformat_minor": 4
}
